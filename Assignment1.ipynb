{
 "cells": [
  {
   "cell_type": "markdown",
   "id": "e0ec8d85",
   "metadata": {},
   "source": [
    "# A simple print statement"
   ]
  },
  {
   "cell_type": "markdown",
   "id": "0e8aa253",
   "metadata": {},
   "source": [
    "### This is part of the 1st assignment\n",
    "#### The goal is as below\n",
    "* Implement basic markup \n",
    "* Implement a basic code snippet"
   ]
  },
  {
   "cell_type": "code",
   "execution_count": 1,
   "id": "537cfd09",
   "metadata": {},
   "outputs": [],
   "source": [
    "def print_stmt():\n",
    "    print (\"hello world\")"
   ]
  },
  {
   "cell_type": "code",
   "execution_count": 2,
   "id": "4e5cced3",
   "metadata": {},
   "outputs": [
    {
     "name": "stdout",
     "output_type": "stream",
     "text": [
      "hello world\n"
     ]
    }
   ],
   "source": [
    "print_stmt()"
   ]
  },
  {
   "cell_type": "code",
   "execution_count": null,
   "id": "3d68d1cf",
   "metadata": {},
   "outputs": [],
   "source": []
  }
 ],
 "metadata": {
  "kernelspec": {
   "display_name": "Python 3 (ipykernel)",
   "language": "python",
   "name": "python3"
  },
  "language_info": {
   "codemirror_mode": {
    "name": "ipython",
    "version": 3
   },
   "file_extension": ".py",
   "mimetype": "text/x-python",
   "name": "python",
   "nbconvert_exporter": "python",
   "pygments_lexer": "ipython3",
   "version": "3.9.12"
  }
 },
 "nbformat": 4,
 "nbformat_minor": 5
}
